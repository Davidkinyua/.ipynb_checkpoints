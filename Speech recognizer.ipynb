{
 "cells": [
  {
   "cell_type": "code",
   "execution_count": 4,
   "metadata": {},
   "outputs": [],
   "source": [
    "import tflearn\n",
    "import DeepSpeech\n",
    "\n",
    "learning_rate = 0.0001\n",
    "\n"
   ]
  },
  {
   "cell_type": "code",
   "execution_count": 5,
   "metadata": {},
   "outputs": [
    {
     "ename": "AttributeError",
     "evalue": "module 'DeepSpeech' has no attribute 'mfcc_batch_generator'",
     "output_type": "error",
     "traceback": [
      "\u001b[1;31m---------------------------------------------------------------------------\u001b[0m",
      "\u001b[1;31mAttributeError\u001b[0m                            Traceback (most recent call last)",
      "\u001b[1;32m<ipython-input-5-cf3e88d6401d>\u001b[0m in \u001b[0;36m<module>\u001b[1;34m()\u001b[0m\n\u001b[0;32m      1\u001b[0m \u001b[0mtraining_iters\u001b[0m \u001b[1;33m=\u001b[0m \u001b[1;36m300000\u001b[0m\u001b[1;33m\u001b[0m\u001b[0m\n\u001b[0;32m      2\u001b[0m \u001b[1;33m\u001b[0m\u001b[0m\n\u001b[1;32m----> 3\u001b[1;33m \u001b[0mbatch\u001b[0m \u001b[1;33m=\u001b[0m \u001b[0mword_batch\u001b[0m \u001b[1;33m=\u001b[0m \u001b[0mDeepSpeech\u001b[0m\u001b[1;33m.\u001b[0m\u001b[0mmfcc_batch_generator\u001b[0m\u001b[1;33m(\u001b[0m\u001b[1;36m64\u001b[0m\u001b[1;33m)\u001b[0m\u001b[1;33m\u001b[0m\u001b[0m\n\u001b[0m\u001b[0;32m      4\u001b[0m \u001b[1;33m\u001b[0m\u001b[0m\n\u001b[0;32m      5\u001b[0m \u001b[0mx\u001b[0m\u001b[1;33m,\u001b[0m\u001b[0my\u001b[0m \u001b[1;33m=\u001b[0m \u001b[0mnext\u001b[0m\u001b[1;33m(\u001b[0m\u001b[0mbatch\u001b[0m\u001b[1;33m)\u001b[0m\u001b[1;33m\u001b[0m\u001b[0m\n",
      "\u001b[1;31mAttributeError\u001b[0m: module 'DeepSpeech' has no attribute 'mfcc_batch_generator'"
     ]
    }
   ],
   "source": [
    "training_iters = 300000\n",
    "\n",
    "batch = word_batch = DeepSpeech.mfcc_batch_generator(64)\n",
    "\n",
    "x,y = next(batch)\n",
    "trainx, trainy = x, y\n",
    "testx, testy = x, y\n",
    "\n",
    "# we  use recurrent neural network\n",
    "\n",
    "net = tflearn.input_data([None,20,80])\n",
    "\n",
    "# LSTM Network\n",
    "\n",
    "net = tflearn.lstm(net,128, dropout = 0.8)\n",
    "net = tflearn.Fully_connected(net, 10, activation = 'sofmax')\n",
    "\n",
    "## convert numerical data into probabilities.\n",
    "\n",
    "net = tflearn.regression(net,optimizer = 'Adam', learning_rate = learning_rate, loss = 'Categorical_crossentropy')\n",
    "\n",
    "# initialize our network\n",
    "net = tflearn.DNN(net, tensorboard_verbose = 0)\n",
    "\n",
    "while 1:\n",
    "    model.fit( trainx,trainy,n_epoch = 10, validation_set = (testx, testy),Show_metric = True,batch_size = 64)\n",
    "    _y = model.predict(x)\n",
    "    model.save('tflearn.lstm.model')\n",
    "    print(_y)\n",
    "    print(y)\n",
    "    "
   ]
  },
  {
   "cell_type": "code",
   "execution_count": null,
   "metadata": {
    "collapsed": true
   },
   "outputs": [],
   "source": []
  }
 ],
 "metadata": {
  "kernelspec": {
   "display_name": "Python 3",
   "language": "python",
   "name": "python3"
  },
  "language_info": {
   "codemirror_mode": {
    "name": "ipython",
    "version": 3
   },
   "file_extension": ".py",
   "mimetype": "text/x-python",
   "name": "python",
   "nbconvert_exporter": "python",
   "pygments_lexer": "ipython3",
   "version": "3.6.3"
  }
 },
 "nbformat": 4,
 "nbformat_minor": 2
}
